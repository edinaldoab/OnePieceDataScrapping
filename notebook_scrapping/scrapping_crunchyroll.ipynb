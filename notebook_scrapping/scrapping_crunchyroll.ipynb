{
 "cells": [
  {
   "attachments": {},
   "cell_type": "markdown",
   "metadata": {},
   "source": [
    " # Webscrapping de vagas do Glassdoor com Selenium"
   ]
  },
  {
   "attachments": {},
   "cell_type": "markdown",
   "metadata": {},
   "source": [
    "## Importação de bibliotecas"
   ]
  },
  {
   "cell_type": "code",
   "execution_count": 1,
   "metadata": {},
   "outputs": [],
   "source": [
    "from selenium import webdriver\n",
    "from selenium.webdriver.common.keys import Keys\n",
    "from selenium.webdriver.chrome.options import Options\n",
    "from selenium.webdriver.common.by import By\n",
    "from selenium.webdriver.chrome.service import Service\n",
    "from selenium.common.exceptions import NoSuchElementException\n",
    "from selenium.common.exceptions import ElementClickInterceptedException\n",
    "from selenium.webdriver.common.action_chains import ActionChains\n",
    "from webdriver_manager.chrome import ChromeDriverManager\n",
    "from selenium import webdriver\n",
    "from selenium.webdriver.common.by import By\n",
    "from selenium.webdriver.support.ui import WebDriverWait\n",
    "from selenium.webdriver.support import expected_conditions as EC\n",
    "import pandas as pd\n",
    "import time\n",
    "from IPython.display import clear_output"
   ]
  },
  {
   "attachments": {},
   "cell_type": "markdown",
   "metadata": {},
   "source": [
    "\n",
    "## Definição da função `get_ep_dataset`"
   ]
  },
  {
   "attachments": {},
   "cell_type": "markdown",
   "metadata": {},
   "source": [
    "## Disponibilização do dataset em `.csv` "
   ]
  },
  {
   "cell_type": "code",
   "execution_count": 27,
   "metadata": {},
   "outputs": [],
   "source": [
    "def get_arc_dataset(arc):\n",
    "       \n",
    "    if arc == 'east_blue':\n",
    "        input_url = 'https://www.crunchyroll.com/pt-br/watch/GR3VWXP96/im-luffy-the-man-whos-gonna-be-king-of-the-pirates'\n",
    "        n = 61\n",
    "    \n",
    "    elif arc == 'alabasta':\n",
    "        input_url = 'https://www.crunchyroll.com/watch/GR2P5QK8R/the-first-line-of-defense-the-giant-whale-laboon-appears'\n",
    "        n = 74\n",
    "\n",
    "    elif arc == 'skypiea':\n",
    "        input_url = 'https://www.crunchyroll.com/watch/G63VW5XEY/zenny-of-the-island-of-goats-and-the-pirate-ship-in-the-mountains'\n",
    "        n = 71\n",
    "    \n",
    "    elif arc == 'water_7':\n",
    "        input_url = 'https://www.crunchyroll.com/watch/GRWEMJZKR/great-adventure-at-long-ring-long-land'\n",
    "        n = 119\n",
    "    \n",
    "    elif arc == 'thriller_bark':\n",
    "        input_url = 'https://www.crunchyroll.com/watch/G6X0MNPEY/the-mysterious-band-of-pirates-sunny-and-the-dangerous-trap'\n",
    "        n = 59\n",
    "    \n",
    "    elif arc == 'summit_war':\n",
    "        input_url = 'https://www.crunchyroll.com/watch/GRJQKE30Y/halfway-across-the-grand-line-arrival-at-the-red-line'\n",
    "        n = 132\n",
    "    \n",
    "    elif arc == 'fishman_island':\n",
    "        input_url = 'https://www.crunchyroll.com/watch/G68VMPQ16/the-beginning-of-the-new-chapter-the-straw-hats-reunited'\n",
    "        n = 58\n",
    "    \n",
    "    elif arc == 'punk_hazard':\n",
    "        input_url = 'https://www.crunchyroll.com/watch/GY8VMP9JY/zs-ambition-lily-the-little-giant'\n",
    "        n = 54\n",
    "    \n",
    "    elif arc == 'dressrosa_1':\n",
    "        input_url = 'https://www.crunchyroll.com/watch/GR751XM3Y/explore-a-kingdom-of-love-and-passion---dressrosa'\n",
    "        n = 70\n",
    "    \n",
    "    elif arc == 'dressrosa_2':\n",
    "        input_url = 'https://www.crunchyroll.com/watch/G62P5G3K6/the-ultimate-power-the-secret-of-the-op-op-fruit'\n",
    "        n = 47\n",
    "    \n",
    "    elif arc == 'silver_mine':\n",
    "        input_url = 'https://www.crunchyroll.com/watch/GRNQJ9VXR/the-silver-fortress-luffy-and-bartos-great-adventure'\n",
    "        n = 4\n",
    "    \n",
    "    elif arc == 'zou':\n",
    "        input_url = 'https://www.crunchyroll.com/watch/G6ZX48JZR/curtain-up-on-a-new-adventure-arriving-at-the-phantom-island-zou'\n",
    "        n = 32\n",
    "    \n",
    "    elif arc == 'whole_cake':\n",
    "        input_url = 'https://www.crunchyroll.com/watch/G675QEZ1R/sanjis-homecoming-into-big-moms-territory'\n",
    "        n = 96\n",
    "    \n",
    "    elif arc == 'reverie':\n",
    "        input_url = 'https://www.crunchyroll.com/watch/GYEX43P86/to-the-reverie-the-straw-hats-sworn-allies-come-together'\n",
    "        n = 47\n",
    "    \n",
    "    elif arc == 'wano_kuni':\n",
    "        input_url = 'https://www.crunchyroll.com/watch/GRVDQ1G4R/the-land-of-wano-to-the-samurai-country-where-cherry-blossoms-flutter'\n",
    "        n = 173\n",
    "    \n",
    "    else:\n",
    "        print('Insira uma saga correta.')    \n",
    "          \n",
    "        \n",
    "    options = Options()\n",
    "    options.add_argument(\"window-size=1024,768\")\n",
    "    options.add_argument(\"--window-position=1024,768\")\n",
    "    \n",
    "\n",
    "    #inicia o driver\n",
    "    driver = webdriver.Chrome(service=Service(ChromeDriverManager().install()))\n",
    "    driver.maximize_window()\n",
    "    driver.get(input_url)\n",
    "\n",
    "    actions = ActionChains(driver)\n",
    "\n",
    "    time.sleep(3)\n",
    "\n",
    "    #fecha banner premium\n",
    "    free_access = driver.find_element(By.CLASS_NAME, 'close-icon')\n",
    "    free_access.click()\n",
    "    \n",
    "    \n",
    "    #aceita cookies\n",
    "    try:\n",
    "        accept_card = driver.find_element(By.CLASS_NAME, 'evidon-banner-acceptbutton')\n",
    "        accept_card.click()\n",
    "    except NoSuchElementException:\n",
    "        accept_card = driver.find_element(By.CLASS_NAME, 'evidon-banner-declinebutton')\n",
    "        accept_card.click()\n",
    "\n",
    "    title = []\n",
    "    votes_counted = []\n",
    "    likes_counted = []\n",
    "    dislikes_counted = []\n",
    "    comments_counted = []\n",
    "    release = []\n",
    "\n",
    "    for i in range(n):\n",
    "        \n",
    "        time.sleep(5)\n",
    "            \n",
    "        #votos\n",
    "        try:\n",
    "            votes = [vote.text for vote in driver.find_elements(By.CSS_SELECTOR, '#content > div > div.app-body-wrapper > div > div > div.content-wrapper--MF5LS > div > div.current-media-wrapper > div > div.current-media-header > div.current-media-parent-ref > div > div > div > div > p.text--gq6o-.text--is-m--pqiL-.star-rating-short-static__votes-count--h9Sun')][0]\n",
    "            votes_counted.append(votes)\n",
    "            time.sleep(1)\n",
    "        except NoSuchElementException:\n",
    "            votes_counted.append('#N/A')\n",
    "            time.sleep(1)\n",
    "            pass\n",
    "\n",
    "        #like count\n",
    "        try:\n",
    "            likes = [like.text for like in driver.find_elements(By.CSS_SELECTOR, '#content > div > div.app-body-wrapper > div > div > div.content-wrapper--MF5LS > div > div.current-media-wrapper > div > div.episode-actions > div > div:nth-child(1) > button > span > span')][0]\n",
    "            likes_counted.append(likes)\n",
    "            time.sleep(1)\n",
    "        except NoSuchElementException:\n",
    "            likes_counted.append('#N/A')\n",
    "            time.sleep(1)\n",
    "            pass\n",
    "\n",
    "        #dislike count\n",
    "        try:\n",
    "            dislikes = [dislike.text for dislike in driver.find_elements(By.CSS_SELECTOR, '#content > div > div.app-body-wrapper > div > div > div.content-wrapper--MF5LS > div > div.current-media-wrapper > div > div.episode-actions > div > div:nth-child(2) > button > span > span')][0]\n",
    "            dislikes_counted.append(dislikes)\n",
    "            time.sleep(1)\n",
    "        except NoSuchElementException:\n",
    "            dislikes_counted.append('#N/A')\n",
    "            time.sleep(1)\n",
    "            pass\n",
    "\n",
    "        actions.click()\n",
    "\n",
    "        for i in range(15):\n",
    "            actions.send_keys(Keys.ARROW_DOWN)\n",
    "\n",
    "        actions.perform()\n",
    "\n",
    "        #comments\n",
    "        try:\n",
    "            comments = WebDriverWait(driver, 5)\\\n",
    "            .until(EC.presence_of_element_located((By.CSS_SELECTOR, \"h5.comments-count\"))\n",
    "        ).text\n",
    "            comments_counted.append(comments)\n",
    "            time.sleep(1)\n",
    "        except NoSuchElementException:\n",
    "            comments_counted.append('#N/A')\n",
    "            time.sleep(1)\n",
    "            pass\n",
    "\n",
    "        actions.click()\n",
    "\n",
    "        for i in range(15):\n",
    "            actions.send_keys(Keys.ARROW_UP)\n",
    "\n",
    "        actions.perform()\n",
    "        \n",
    "        #nome do episódio\n",
    "        try:\n",
    "            ep_nome = [elemento.text for elemento in driver.find_elements(By.CSS_SELECTOR, 'h1.title.heading--nKNOf.heading--is-xs--UyvXH.heading--is-family-type-one--GqBzU')][0]\n",
    "            title.append(ep_nome)\n",
    "            time.sleep(1)\n",
    "        except NoSuchElementException:\n",
    "            title.append('#N/A')\n",
    "            time.sleep(1)\n",
    "            pass\n",
    "        \n",
    "        #realesed data\n",
    "        try:\n",
    "            realesed_on = WebDriverWait(driver, 5)\\\n",
    "            .until(EC.presence_of_element_located((By.CSS_SELECTOR, \"p.text--gq6o-.text--is-m--pqiL-.release-date\"))\n",
    "        ).text\n",
    "            release.append(realesed_on)\n",
    "            time.sleep(1)\n",
    "        except NoSuchElementException:\n",
    "            release.append('#N/A')\n",
    "            time.sleep(1)\n",
    "            pass\n",
    "\n",
    "        #próxima página\n",
    "        opened=False\n",
    "        tries=0\n",
    "\n",
    "        while not opened and tries!=5:\n",
    "            try:\n",
    "                driver.find_element(By.CSS_SELECTOR, 'a.playable-card-mini-static__link--UOJQm').click()\n",
    "                time.sleep(2)\n",
    "                opened=True\n",
    "            except ElementClickInterceptedException:\n",
    "                driver.find_element(By.CSS_SELECTOR, 'a.playable-card-mini-static__link--UOJQm').click()\n",
    "                tries+=1\n",
    "                time.sleep(2)\n",
    "        \n",
    "        #debug simples dos dados raspados\n",
    "        clear_output(wait=True)\n",
    "        print('='*80)\n",
    "        print(f'{ep_nome}')\n",
    "        print('='*80)\n",
    "        print(f'Upvotes: {likes}')\n",
    "        print(f'Downvotes: {dislikes}')\n",
    "        print(f'Comments: {comments}')\n",
    "        print(f'Realesed on: {realesed_on}')\n",
    "        print('='*80)\n",
    "        \n",
    "        time.sleep(3)\n",
    "\n",
    "    driver.close()\n",
    "    \n",
    "    #criação do data frame\n",
    "    df = pd.DataFrame({'title': title, \n",
    "    'upvotes': likes_counted,\n",
    "    'downvotes': dislikes_counted,\n",
    "    'comments_counted': comments_counted,\n",
    "    'released_on': release})\n",
    "    \n",
    "    df.to_csv(f'{arc}.csv', index=False, mode='w+')"
   ]
  },
  {
   "cell_type": "code",
   "execution_count": 24,
   "metadata": {},
   "outputs": [
    {
     "name": "stdout",
     "output_type": "stream",
     "text": [
      "================================================================================\n",
      "E61 - Um Confronto de Fúria! Para Além da Red Line!\n",
      "================================================================================\n",
      "Upvotes: 4K\n",
      "Downvotes: 55\n",
      "Comments: 276 Comentários\n",
      "Realesed on: Lançado em 8 mar 2014\n",
      "================================================================================\n"
     ]
    }
   ],
   "source": [
    "get_arc_dataset('east_blue')"
   ]
  },
  {
   "cell_type": "code",
   "execution_count": 28,
   "metadata": {},
   "outputs": [
    {
     "name": "stdout",
     "output_type": "stream",
     "text": [
      "================================================================================\n",
      "E135 - The Fabled Pirate Hunter! Zoro, the Wandering Swordsman!\n",
      "================================================================================\n",
      "Upvotes: 2.7K\n",
      "Downvotes: 28\n",
      "Comments: 379 Comments\n",
      "Realesed on: Released on Apr 5, 2014\n",
      "================================================================================\n"
     ]
    }
   ],
   "source": [
    "get_arc_dataset('alabasta')"
   ]
  },
  {
   "cell_type": "code",
   "execution_count": 29,
   "metadata": {},
   "outputs": [
    {
     "name": "stdout",
     "output_type": "stream",
     "text": [
      "================================================================================\n",
      "E325 - The Most Heinous Power! Blackbeard's Darkness Attacks Ace!\n",
      "================================================================================\n",
      "Upvotes: 6.7K\n",
      "Downvotes: 58\n",
      "Comments: 914 Comments\n",
      "Realesed on: Released on May 24, 2014\n",
      "================================================================================\n"
     ]
    }
   ],
   "source": [
    "get_arc_dataset('water_7')"
   ]
  },
  {
   "cell_type": "code",
   "execution_count": 30,
   "metadata": {},
   "outputs": [
    {
     "name": "stdout",
     "output_type": "stream",
     "text": [
      "================================================================================\n",
      "E384 - Brook's Great Struggle! Is the Path to Becoming a True Comrade Rigorous?\n",
      "================================================================================\n",
      "Upvotes: 5K\n",
      "Downvotes: 40\n",
      "Comments: 507 Comments\n",
      "Realesed on: Released on Oct 18, 2014\n",
      "================================================================================\n"
     ]
    }
   ],
   "source": [
    "get_arc_dataset('thriller_bark')"
   ]
  },
  {
   "cell_type": "code",
   "execution_count": 31,
   "metadata": {},
   "outputs": [
    {
     "name": "stdout",
     "output_type": "stream",
     "text": [
      "================================================================================\n",
      "E516 - Luffy's Training Begins! To the Place We Promised in 2 Years!\n",
      "================================================================================\n",
      "Upvotes: 10.2K\n",
      "Downvotes: 38\n",
      "Comments: 1,919 Comments\n",
      "Realesed on: Released on Sep 27, 2014\n",
      "================================================================================\n"
     ]
    }
   ],
   "source": [
    "get_arc_dataset('summit_war')"
   ]
  },
  {
   "cell_type": "code",
   "execution_count": 32,
   "metadata": {},
   "outputs": [
    {
     "name": "stdout",
     "output_type": "stream",
     "text": [
      "================================================================================\n",
      "E574 - To the New World! Heading for the Ultimate Sea!\n",
      "================================================================================\n",
      "Upvotes: 6.2K\n",
      "Downvotes: 40\n",
      "Comments: 904 Comments\n",
      "Realesed on: Released on Jul 26, 2014\n",
      "================================================================================\n"
     ]
    }
   ],
   "source": [
    "get_arc_dataset('fishman_island')"
   ]
  },
  {
   "cell_type": "code",
   "execution_count": 33,
   "metadata": {},
   "outputs": [
    {
     "name": "stdout",
     "output_type": "stream",
     "text": [
      "================================================================================\n",
      "E629 - Startling! The Big News Shakes Up the New World!\n",
      "================================================================================\n",
      "Upvotes: 6.2K\n",
      "Downvotes: 28\n",
      "Comments: 956 Comments\n",
      "Realesed on: Released on Jan 18, 2014\n",
      "================================================================================\n"
     ]
    }
   ],
   "source": [
    "get_arc_dataset('punk_hazard')"
   ]
  },
  {
   "cell_type": "code",
   "execution_count": 34,
   "metadata": {},
   "outputs": [
    {
     "name": "stdout",
     "output_type": "stream",
     "text": [
      "================================================================================\n",
      "E699 - A Noble Family! The True Identity of Doflamingo!\n",
      "================================================================================\n",
      "Upvotes: 5.7K\n",
      "Downvotes: 39\n",
      "Comments: 694 Comments\n",
      "Realesed on: Released on Jun 27, 2015\n",
      "================================================================================\n"
     ]
    }
   ],
   "source": [
    "get_arc_dataset('dressrosa_1')"
   ]
  },
  {
   "cell_type": "code",
   "execution_count": 35,
   "metadata": {},
   "outputs": [
    {
     "name": "stdout",
     "output_type": "stream",
     "text": [
      "================================================================================\n",
      "E700 - The Ultimate Power! The Secret of the Op-Op Fruit!\n",
      "================================================================================\n",
      "Upvotes: 6.2K\n",
      "Downvotes: 171\n",
      "Comments: 691 Comments\n",
      "Realesed on: Released on Jul 4, 2015\n",
      "================================================================================\n"
     ]
    }
   ],
   "source": [
    "get_arc_dataset('dressrosa_2')"
   ]
  },
  {
   "cell_type": "code",
   "execution_count": 36,
   "metadata": {},
   "outputs": [
    {
     "name": "stdout",
     "output_type": "stream",
     "text": [
      "================================================================================\n",
      "E750 - A Desperate Situation! Luffy Fights a Battle in Extreme Heat!\n",
      "================================================================================\n",
      "Upvotes: 2.8K\n",
      "Downvotes: 67\n",
      "Comments: 544 Comments\n",
      "Realesed on: Released on Jul 16, 2016\n",
      "================================================================================\n"
     ]
    }
   ],
   "source": [
    "get_arc_dataset('silver_mine')"
   ]
  },
  {
   "cell_type": "code",
   "execution_count": 37,
   "metadata": {},
   "outputs": [
    {
     "name": "stdout",
     "output_type": "stream",
     "text": [
      "================================================================================\n",
      "E751 - Curtain-up on a New Adventure! Arriving at the Phantom Island, Zou!\n",
      "================================================================================\n",
      "Upvotes: 6.1K\n",
      "Downvotes: 94\n",
      "Comments: 800 Comments\n",
      "Realesed on: Released on Jul 30, 2016\n",
      "================================================================================\n"
     ]
    }
   ],
   "source": [
    "get_arc_dataset('zou')"
   ]
  },
  {
   "cell_type": "code",
   "execution_count": 38,
   "metadata": {},
   "outputs": [
    {
     "name": "stdout",
     "output_type": "stream",
     "text": [
      "================================================================================\n",
      "E879 - To the Reverie! The Straw Hats' Sworn Allies Come Together!\n",
      "================================================================================\n",
      "Upvotes: 7.2K\n",
      "Downvotes: 98\n",
      "Comments: 1,115 Comments\n",
      "Realesed on: Released on Apr 6, 2019\n",
      "================================================================================\n"
     ]
    }
   ],
   "source": [
    "get_arc_dataset('reverie')"
   ]
  },
  {
   "cell_type": "code",
   "execution_count": null,
   "metadata": {},
   "outputs": [],
   "source": [
    "get_arc_dataset('wano_kuni')"
   ]
  }
 ],
 "metadata": {
  "kernelspec": {
   "display_name": "venv",
   "language": "python",
   "name": "python3"
  },
  "language_info": {
   "codemirror_mode": {
    "name": "ipython",
    "version": 3
   },
   "file_extension": ".py",
   "mimetype": "text/x-python",
   "name": "python",
   "nbconvert_exporter": "python",
   "pygments_lexer": "ipython3",
   "version": "3.11.0"
  },
  "orig_nbformat": 4
 },
 "nbformat": 4,
 "nbformat_minor": 2
}
