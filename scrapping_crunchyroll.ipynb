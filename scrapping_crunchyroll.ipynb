{
 "cells": [
  {
   "attachments": {},
   "cell_type": "markdown",
   "metadata": {},
   "source": [
    " # Webscrapping: interações do público de One Piece na Crunchyroll"
   ]
  },
  {
   "attachments": {},
   "cell_type": "markdown",
   "metadata": {},
   "source": [
    "## Importação de bibliotecas"
   ]
  },
  {
   "cell_type": "code",
   "execution_count": 4,
   "metadata": {},
   "outputs": [],
   "source": [
    "from selenium import webdriver\n",
    "from selenium.webdriver.common.keys import Keys\n",
    "from selenium.webdriver.chrome.options import Options\n",
    "from selenium.webdriver.common.by import By\n",
    "from selenium.webdriver.chrome.service import Service\n",
    "from selenium.common.exceptions import NoSuchElementException\n",
    "from selenium.common.exceptions import ElementClickInterceptedException\n",
    "from selenium.webdriver.common.action_chains import ActionChains\n",
    "from webdriver_manager.chrome import ChromeDriverManager\n",
    "from selenium import webdriver\n",
    "from selenium.webdriver.common.by import By\n",
    "from selenium.webdriver.support.ui import WebDriverWait\n",
    "from selenium.webdriver.support import expected_conditions as EC\n",
    "import pandas as pd\n",
    "import glob\n",
    "import time\n",
    "from IPython.display import clear_output"
   ]
  },
  {
   "attachments": {},
   "cell_type": "markdown",
   "metadata": {},
   "source": [
    "\n",
    "## Definição da função `get_ep_dataset`"
   ]
  },
  {
   "attachments": {},
   "cell_type": "markdown",
   "metadata": {},
   "source": [
    "## Disponibilização do dataset do arco em `.csv` "
   ]
  },
  {
   "cell_type": "code",
   "execution_count": 5,
   "metadata": {},
   "outputs": [],
   "source": [
    "def get_arc_dataset(arc):\n",
    "    \"\"\"Esta função faz a coleta de dados simples dos episódios\n",
    "    de One Piece na Crunchyroll e os agrega em um csv.\n",
    "\n",
    "    Args:\n",
    "        arc (str): arco desejado. Pode receber: 'east_blue', 'alabasta', 'skypiea',\n",
    "            'water_7', 'thriller_bark', 'summit_war', 'fishman_island', 'punk_hazard', 'dressrosa_1',\n",
    "            'dressrosa_2',, 'silver_mine', 'zou', 'whole_cake', 'reverie' e 'wano_kuni'.    \n",
    "    \"\"\"\n",
    "       \n",
    "    if arc == 'east_blue':\n",
    "        input_url = 'https://www.crunchyroll.com/pt-br/watch/GR3VWXP96/im-luffy-the-man-whos-gonna-be-king-of-the-pirates'\n",
    "        n = 61\n",
    "    \n",
    "    elif arc == 'alabasta':\n",
    "        input_url = 'https://www.crunchyroll.com/watch/GR2P5QK8R/the-first-line-of-defense-the-giant-whale-laboon-appears'\n",
    "        n = 74\n",
    "\n",
    "    elif arc == 'skypiea':\n",
    "        input_url = 'https://www.crunchyroll.com/watch/G63VW5XEY/zenny-of-the-island-of-goats-and-the-pirate-ship-in-the-mountains'\n",
    "        n = 71\n",
    "    \n",
    "    elif arc == 'water_7':\n",
    "        input_url = 'https://www.crunchyroll.com/watch/GRWEMJZKR/great-adventure-at-long-ring-long-land'\n",
    "        n = 119\n",
    "    \n",
    "    elif arc == 'thriller_bark':\n",
    "        input_url = 'https://www.crunchyroll.com/watch/G6X0MNPEY/the-mysterious-band-of-pirates-sunny-and-the-dangerous-trap'\n",
    "        n = 59\n",
    "    \n",
    "    elif arc == 'summit_war':\n",
    "        input_url = 'https://www.crunchyroll.com/watch/GRJQKE30Y/halfway-across-the-grand-line-arrival-at-the-red-line'\n",
    "        n = 132\n",
    "    \n",
    "    elif arc == 'fishman_island':\n",
    "        input_url = 'https://www.crunchyroll.com/watch/G68VMPQ16/the-beginning-of-the-new-chapter-the-straw-hats-reunited'\n",
    "        n = 58\n",
    "    \n",
    "    elif arc == 'punk_hazard':\n",
    "        input_url = 'https://www.crunchyroll.com/watch/GY8VMP9JY/zs-ambition-lily-the-little-giant'\n",
    "        n = 54\n",
    "    \n",
    "    elif arc == 'dressrosa_1':\n",
    "        input_url = 'https://www.crunchyroll.com/watch/GR751XM3Y/explore-a-kingdom-of-love-and-passion---dressrosa'\n",
    "        n = 70\n",
    "    \n",
    "    elif arc == 'dressrosa_2':\n",
    "        input_url = 'https://www.crunchyroll.com/watch/G62P5G3K6/the-ultimate-power-the-secret-of-the-op-op-fruit'\n",
    "        n = 47\n",
    "    \n",
    "    elif arc == 'silver_mine':\n",
    "        input_url = 'https://www.crunchyroll.com/watch/GRNQJ9VXR/the-silver-fortress-luffy-and-bartos-great-adventure'\n",
    "        n = 4\n",
    "    \n",
    "    elif arc == 'zou':\n",
    "        input_url = 'https://www.crunchyroll.com/watch/G6ZX48JZR/curtain-up-on-a-new-adventure-arriving-at-the-phantom-island-zou'\n",
    "        n = 32\n",
    "    \n",
    "    elif arc == 'whole_cake':\n",
    "        input_url = 'https://www.crunchyroll.com/watch/G675QEZ1R/sanjis-homecoming-into-big-moms-territory'\n",
    "        n = 96\n",
    "    \n",
    "    elif arc == 'reverie':\n",
    "        input_url = 'https://www.crunchyroll.com/watch/GYEX43P86/to-the-reverie-the-straw-hats-sworn-allies-come-together'\n",
    "        n = 47\n",
    "    \n",
    "    elif arc == 'wano_kuni':\n",
    "        input_url = 'https://www.crunchyroll.com/watch/GRVDQ1G4R/the-land-of-wano-to-the-samurai-country-where-cherry-blossoms-flutter'\n",
    "        n = 173\n",
    "    \n",
    "        options = Options()\n",
    "        options.add_argument('--headless')\n",
    "        \n",
    "        #inicia o driver\n",
    "        driver = webdriver.Chrome(service=Service(ChromeDriverManager().install()))\n",
    "        driver.maximize_window()\n",
    "        driver.get(input_url)\n",
    "\n",
    "        actions = ActionChains(driver)\n",
    "\n",
    "        time.sleep(3)\n",
    "\n",
    "        #fecha banner premium\n",
    "        free_access = driver.find_element(By.CLASS_NAME, 'close-icon')\n",
    "        free_access.click()\n",
    "        \n",
    "        \n",
    "        #aceita cookies\n",
    "        try:\n",
    "            accept_card = driver.find_element(By.CLASS_NAME, 'evidon-banner-acceptbutton')\n",
    "            accept_card.click()\n",
    "        except NoSuchElementException:\n",
    "            accept_card = driver.find_element(By.CLASS_NAME, 'evidon-banner-declinebutton')\n",
    "            accept_card.click()\n",
    "\n",
    "        title = []\n",
    "        votes_counted = []\n",
    "        likes_counted = []\n",
    "        dislikes_counted = []\n",
    "        comments_counted = []\n",
    "        release = []\n",
    "\n",
    "        for i in range(n):\n",
    "            \n",
    "            time.sleep(5)\n",
    "                \n",
    "            #votos\n",
    "            try:\n",
    "                votes = [vote.text for vote in driver.find_elements(By.CSS_SELECTOR, '#content > div > div.app-body-wrapper > div > div > div.content-wrapper--MF5LS > div > div.current-media-wrapper > div > div.current-media-header > div.current-media-parent-ref > div > div > div > div > p.text--gq6o-.text--is-m--pqiL-.star-rating-short-static__votes-count--h9Sun')][0]\n",
    "                votes_counted.append(votes)\n",
    "                time.sleep(1)\n",
    "            except NoSuchElementException:\n",
    "                votes_counted.append('#N/A')\n",
    "                time.sleep(1)\n",
    "                pass\n",
    "\n",
    "            #like count\n",
    "            try:\n",
    "                likes = [like.text for like in driver.find_elements(By.CSS_SELECTOR, '#content > div > div.app-body-wrapper > div > div > div.content-wrapper--MF5LS > div > div.current-media-wrapper > div > div.episode-actions > div > div:nth-child(1) > button > span > span')][0]\n",
    "                likes_counted.append(likes)\n",
    "                time.sleep(1)\n",
    "            except NoSuchElementException:\n",
    "                likes_counted.append('#N/A')\n",
    "                time.sleep(1)\n",
    "                pass\n",
    "\n",
    "            #dislike count\n",
    "            try:\n",
    "                dislikes = [dislike.text for dislike in driver.find_elements(By.CSS_SELECTOR, '#content > div > div.app-body-wrapper > div > div > div.content-wrapper--MF5LS > div > div.current-media-wrapper > div > div.episode-actions > div > div:nth-child(2) > button > span > span')][0]\n",
    "                dislikes_counted.append(dislikes)\n",
    "                time.sleep(1)\n",
    "            except NoSuchElementException:\n",
    "                dislikes_counted.append('#N/A')\n",
    "                time.sleep(1)\n",
    "                pass\n",
    "\n",
    "            actions.click()\n",
    "\n",
    "            for i in range(15):\n",
    "                actions.send_keys(Keys.ARROW_DOWN)\n",
    "\n",
    "            actions.perform()\n",
    "\n",
    "            #comments\n",
    "            try:\n",
    "                comments = WebDriverWait(driver, 5)\\\n",
    "                .until(EC.presence_of_element_located((By.CSS_SELECTOR, 'h5.comments-count'))\n",
    "            ).text\n",
    "                comments_counted.append(comments)\n",
    "                time.sleep(1)\n",
    "            except NoSuchElementException:\n",
    "                comments_counted.append('#N/A')\n",
    "                time.sleep(1)\n",
    "                pass\n",
    "\n",
    "            actions.click()\n",
    "\n",
    "            for i in range(15):\n",
    "                actions.send_keys(Keys.ARROW_UP)\n",
    "\n",
    "            actions.perform()\n",
    "            \n",
    "            #nome do episódio\n",
    "            try:\n",
    "                ep_nome = [elemento.text for elemento in driver.find_elements(By.CSS_SELECTOR, 'h1.title.heading--nKNOf.heading--is-xs--UyvXH.heading--is-family-type-one--GqBzU')][0]\n",
    "                title.append(ep_nome)\n",
    "                time.sleep(1)\n",
    "            except NoSuchElementException:\n",
    "                title.append('#N/A')\n",
    "                time.sleep(1)\n",
    "                pass\n",
    "            \n",
    "            #realesed data\n",
    "            try:\n",
    "                realesed_on = WebDriverWait(driver, 5)\\\n",
    "                .until(EC.presence_of_element_located((By.CSS_SELECTOR, 'p.text--gq6o-.text--is-m--pqiL-.release-date'))\n",
    "            ).text\n",
    "                release.append(realesed_on)\n",
    "                time.sleep(1)\n",
    "            except NoSuchElementException:\n",
    "                release.append('#N/A')\n",
    "                time.sleep(1)\n",
    "                pass\n",
    "\n",
    "            #próxima página\n",
    "            opened=False\n",
    "            tries=0\n",
    "\n",
    "            while not opened and tries!=5:\n",
    "                try:\n",
    "                    driver.find_element(By.CSS_SELECTOR, 'a.playable-card-mini-static__link--UOJQm').click()\n",
    "                    time.sleep(2)\n",
    "                    opened=True\n",
    "                except ElementClickInterceptedException:\n",
    "                    driver.find_element(By.CSS_SELECTOR, 'a.playable-card-mini-static__link--UOJQm').click()\n",
    "                    tries+=1\n",
    "                    time.sleep(2)\n",
    "            \n",
    "            #debug simples dos dados raspados\n",
    "            clear_output(wait=True)\n",
    "            print('='*80)\n",
    "            print(f'{ep_nome}')\n",
    "            print('='*80)\n",
    "            print(f'Upvotes: {likes}')\n",
    "            print(f'Downvotes: {dislikes}')\n",
    "            print(f'Comments: {comments}')\n",
    "            print(f'Realesed on: {realesed_on}')\n",
    "            print('='*80)\n",
    "            \n",
    "            time.sleep(3)\n",
    "\n",
    "        driver.close()\n",
    "        \n",
    "        #criação do data frame\n",
    "        df = pd.DataFrame({'title': title, \n",
    "        'upvotes': likes_counted,\n",
    "        'downvotes': dislikes_counted,\n",
    "        'comments_counted': comments_counted,\n",
    "        'released_on': release})\n",
    "        \n",
    "        df.to_csv(f'{arc}.csv', index=False, mode='w+')\n",
    "    \n",
    "    else:\n",
    "        print('Insira uma saga correta.')"
   ]
  },
  {
   "cell_type": "code",
   "execution_count": 24,
   "metadata": {},
   "outputs": [
    {
     "name": "stdout",
     "output_type": "stream",
     "text": [
      "================================================================================\n",
      "E61 - Um Confronto de Fúria! Para Além da Red Line!\n",
      "================================================================================\n",
      "Upvotes: 4K\n",
      "Downvotes: 55\n",
      "Comments: 276 Comentários\n",
      "Realesed on: Lançado em 8 mar 2014\n",
      "================================================================================\n"
     ]
    }
   ],
   "source": [
    "get_arc_dataset('east_blue')"
   ]
  },
  {
   "cell_type": "code",
   "execution_count": 28,
   "metadata": {},
   "outputs": [
    {
     "name": "stdout",
     "output_type": "stream",
     "text": [
      "================================================================================\n",
      "E135 - The Fabled Pirate Hunter! Zoro, the Wandering Swordsman!\n",
      "================================================================================\n",
      "Upvotes: 2.7K\n",
      "Downvotes: 28\n",
      "Comments: 379 Comments\n",
      "Realesed on: Released on Apr 5, 2014\n",
      "================================================================================\n"
     ]
    }
   ],
   "source": [
    "get_arc_dataset('alabasta')"
   ]
  },
  {
   "cell_type": "code",
   "execution_count": 29,
   "metadata": {},
   "outputs": [
    {
     "name": "stdout",
     "output_type": "stream",
     "text": [
      "================================================================================\n",
      "E325 - The Most Heinous Power! Blackbeard's Darkness Attacks Ace!\n",
      "================================================================================\n",
      "Upvotes: 6.7K\n",
      "Downvotes: 58\n",
      "Comments: 914 Comments\n",
      "Realesed on: Released on May 24, 2014\n",
      "================================================================================\n"
     ]
    }
   ],
   "source": [
    "get_arc_dataset('water_7')"
   ]
  },
  {
   "cell_type": "code",
   "execution_count": 30,
   "metadata": {},
   "outputs": [
    {
     "name": "stdout",
     "output_type": "stream",
     "text": [
      "================================================================================\n",
      "E384 - Brook's Great Struggle! Is the Path to Becoming a True Comrade Rigorous?\n",
      "================================================================================\n",
      "Upvotes: 5K\n",
      "Downvotes: 40\n",
      "Comments: 507 Comments\n",
      "Realesed on: Released on Oct 18, 2014\n",
      "================================================================================\n"
     ]
    }
   ],
   "source": [
    "get_arc_dataset('thriller_bark')"
   ]
  },
  {
   "cell_type": "code",
   "execution_count": 31,
   "metadata": {},
   "outputs": [
    {
     "name": "stdout",
     "output_type": "stream",
     "text": [
      "================================================================================\n",
      "E516 - Luffy's Training Begins! To the Place We Promised in 2 Years!\n",
      "================================================================================\n",
      "Upvotes: 10.2K\n",
      "Downvotes: 38\n",
      "Comments: 1,919 Comments\n",
      "Realesed on: Released on Sep 27, 2014\n",
      "================================================================================\n"
     ]
    }
   ],
   "source": [
    "get_arc_dataset('summit_war')"
   ]
  },
  {
   "cell_type": "code",
   "execution_count": 32,
   "metadata": {},
   "outputs": [
    {
     "name": "stdout",
     "output_type": "stream",
     "text": [
      "================================================================================\n",
      "E574 - To the New World! Heading for the Ultimate Sea!\n",
      "================================================================================\n",
      "Upvotes: 6.2K\n",
      "Downvotes: 40\n",
      "Comments: 904 Comments\n",
      "Realesed on: Released on Jul 26, 2014\n",
      "================================================================================\n"
     ]
    }
   ],
   "source": [
    "get_arc_dataset('fishman_island')"
   ]
  },
  {
   "cell_type": "code",
   "execution_count": 33,
   "metadata": {},
   "outputs": [
    {
     "name": "stdout",
     "output_type": "stream",
     "text": [
      "================================================================================\n",
      "E629 - Startling! The Big News Shakes Up the New World!\n",
      "================================================================================\n",
      "Upvotes: 6.2K\n",
      "Downvotes: 28\n",
      "Comments: 956 Comments\n",
      "Realesed on: Released on Jan 18, 2014\n",
      "================================================================================\n"
     ]
    }
   ],
   "source": [
    "get_arc_dataset('punk_hazard')"
   ]
  },
  {
   "cell_type": "code",
   "execution_count": 34,
   "metadata": {},
   "outputs": [
    {
     "name": "stdout",
     "output_type": "stream",
     "text": [
      "================================================================================\n",
      "E699 - A Noble Family! The True Identity of Doflamingo!\n",
      "================================================================================\n",
      "Upvotes: 5.7K\n",
      "Downvotes: 39\n",
      "Comments: 694 Comments\n",
      "Realesed on: Released on Jun 27, 2015\n",
      "================================================================================\n"
     ]
    }
   ],
   "source": [
    "get_arc_dataset('dressrosa_1')"
   ]
  },
  {
   "cell_type": "code",
   "execution_count": 35,
   "metadata": {},
   "outputs": [
    {
     "name": "stdout",
     "output_type": "stream",
     "text": [
      "================================================================================\n",
      "E700 - The Ultimate Power! The Secret of the Op-Op Fruit!\n",
      "================================================================================\n",
      "Upvotes: 6.2K\n",
      "Downvotes: 171\n",
      "Comments: 691 Comments\n",
      "Realesed on: Released on Jul 4, 2015\n",
      "================================================================================\n"
     ]
    }
   ],
   "source": [
    "get_arc_dataset('dressrosa_2')"
   ]
  },
  {
   "cell_type": "code",
   "execution_count": 36,
   "metadata": {},
   "outputs": [
    {
     "name": "stdout",
     "output_type": "stream",
     "text": [
      "================================================================================\n",
      "E750 - A Desperate Situation! Luffy Fights a Battle in Extreme Heat!\n",
      "================================================================================\n",
      "Upvotes: 2.8K\n",
      "Downvotes: 67\n",
      "Comments: 544 Comments\n",
      "Realesed on: Released on Jul 16, 2016\n",
      "================================================================================\n"
     ]
    }
   ],
   "source": [
    "get_arc_dataset('silver_mine')"
   ]
  },
  {
   "cell_type": "code",
   "execution_count": 37,
   "metadata": {},
   "outputs": [
    {
     "name": "stdout",
     "output_type": "stream",
     "text": [
      "================================================================================\n",
      "E751 - Curtain-up on a New Adventure! Arriving at the Phantom Island, Zou!\n",
      "================================================================================\n",
      "Upvotes: 6.1K\n",
      "Downvotes: 94\n",
      "Comments: 800 Comments\n",
      "Realesed on: Released on Jul 30, 2016\n",
      "================================================================================\n"
     ]
    }
   ],
   "source": [
    "get_arc_dataset('zou')"
   ]
  },
  {
   "cell_type": "code",
   "execution_count": 39,
   "metadata": {},
   "outputs": [
    {
     "name": "stdout",
     "output_type": "stream",
     "text": [
      "================================================================================\n",
      "E879 - To the Reverie! The Straw Hats' Sworn Allies Come Together!\n",
      "================================================================================\n",
      "Upvotes: 7.2K\n",
      "Downvotes: 97\n",
      "Comments: 1,115 Comments\n",
      "Realesed on: Released on Apr 6, 2019\n",
      "================================================================================\n"
     ]
    }
   ],
   "source": [
    "get_arc_dataset('reverie')"
   ]
  },
  {
   "cell_type": "code",
   "execution_count": 6,
   "metadata": {},
   "outputs": [
    {
     "name": "stdout",
     "output_type": "stream",
     "text": [
      "================================================================================\n",
      "E903 - A Climactic Sumo Battle! Straw Hat vs. the Strongest Ever Yokozuna!\n",
      "================================================================================\n",
      "Upvotes: 5.8K\n",
      "Downvotes: 198\n",
      "Comments: 1,276 Comments\n",
      "Realesed on: Released on Sep 21, 2019\n",
      "================================================================================\n"
     ]
    },
    {
     "ename": "TimeoutException",
     "evalue": "Message: \nStacktrace:\nBacktrace:\n\t(No symbol) [0x00CCDCE3]\n\t(No symbol) [0x00C639D1]\n\t(No symbol) [0x00B74DA8]\n\t(No symbol) [0x00BA019F]\n\t(No symbol) [0x00BA03AB]\n\t(No symbol) [0x00BCEE62]\n\t(No symbol) [0x00BBAF14]\n\t(No symbol) [0x00BCD57C]\n\t(No symbol) [0x00BBACC6]\n\t(No symbol) [0x00B96F68]\n\t(No symbol) [0x00B980CD]\n\tGetHandleVerifier [0x00F43832+2506274]\n\tGetHandleVerifier [0x00F79794+2727300]\n\tGetHandleVerifier [0x00F7E36C+2746716]\n\tGetHandleVerifier [0x00D76690+617600]\n\t(No symbol) [0x00C6C712]\n\t(No symbol) [0x00C71FF8]\n\t(No symbol) [0x00C720DB]\n\t(No symbol) [0x00C7C63B]\n\tBaseThreadInitThunk [0x773D0099+25]\n\tRtlGetAppContainerNamedObjectPath [0x77C17B6E+286]\n\tRtlGetAppContainerNamedObjectPath [0x77C17B3E+238]\n",
     "output_type": "error",
     "traceback": [
      "\u001b[1;31m---------------------------------------------------------------------------\u001b[0m",
      "\u001b[1;31mTimeoutException\u001b[0m                          Traceback (most recent call last)",
      "Cell \u001b[1;32mIn[6], line 1\u001b[0m\n\u001b[1;32m----> 1\u001b[0m get_arc_dataset(\u001b[39m'\u001b[39;49m\u001b[39mwano_kuni\u001b[39;49m\u001b[39m'\u001b[39;49m)\n",
      "Cell \u001b[1;32mIn[5], line 147\u001b[0m, in \u001b[0;36mget_arc_dataset\u001b[1;34m(arc)\u001b[0m\n\u001b[0;32m    144\u001b[0m \u001b[39m#comments\u001b[39;00m\n\u001b[0;32m    145\u001b[0m \u001b[39mtry\u001b[39;00m:\n\u001b[0;32m    146\u001b[0m     comments \u001b[39m=\u001b[39m WebDriverWait(driver, \u001b[39m5\u001b[39;49m)\\\n\u001b[1;32m--> 147\u001b[0m     \u001b[39m.\u001b[39;49muntil(EC\u001b[39m.\u001b[39;49mpresence_of_element_located((By\u001b[39m.\u001b[39;49mCSS_SELECTOR, \u001b[39m'\u001b[39;49m\u001b[39mh5.comments-count\u001b[39;49m\u001b[39m'\u001b[39;49m))\n\u001b[0;32m    148\u001b[0m )\u001b[39m.\u001b[39mtext\n\u001b[0;32m    149\u001b[0m     comments_counted\u001b[39m.\u001b[39mappend(comments)\n\u001b[0;32m    150\u001b[0m     time\u001b[39m.\u001b[39msleep(\u001b[39m1\u001b[39m)\n",
      "File \u001b[1;32mc:\\Users\\edina\\OneDrive\\Documentos\\DataOnePiece\\venv\\Lib\\site-packages\\selenium\\webdriver\\support\\wait.py:95\u001b[0m, in \u001b[0;36mWebDriverWait.until\u001b[1;34m(self, method, message)\u001b[0m\n\u001b[0;32m     93\u001b[0m     \u001b[39mif\u001b[39;00m time\u001b[39m.\u001b[39mmonotonic() \u001b[39m>\u001b[39m end_time:\n\u001b[0;32m     94\u001b[0m         \u001b[39mbreak\u001b[39;00m\n\u001b[1;32m---> 95\u001b[0m \u001b[39mraise\u001b[39;00m TimeoutException(message, screen, stacktrace)\n",
      "\u001b[1;31mTimeoutException\u001b[0m: Message: \nStacktrace:\nBacktrace:\n\t(No symbol) [0x00CCDCE3]\n\t(No symbol) [0x00C639D1]\n\t(No symbol) [0x00B74DA8]\n\t(No symbol) [0x00BA019F]\n\t(No symbol) [0x00BA03AB]\n\t(No symbol) [0x00BCEE62]\n\t(No symbol) [0x00BBAF14]\n\t(No symbol) [0x00BCD57C]\n\t(No symbol) [0x00BBACC6]\n\t(No symbol) [0x00B96F68]\n\t(No symbol) [0x00B980CD]\n\tGetHandleVerifier [0x00F43832+2506274]\n\tGetHandleVerifier [0x00F79794+2727300]\n\tGetHandleVerifier [0x00F7E36C+2746716]\n\tGetHandleVerifier [0x00D76690+617600]\n\t(No symbol) [0x00C6C712]\n\t(No symbol) [0x00C71FF8]\n\t(No symbol) [0x00C720DB]\n\t(No symbol) [0x00C7C63B]\n\tBaseThreadInitThunk [0x773D0099+25]\n\tRtlGetAppContainerNamedObjectPath [0x77C17B6E+286]\n\tRtlGetAppContainerNamedObjectPath [0x77C17B3E+238]\n"
     ]
    }
   ],
   "source": [
    "get_arc_dataset('wano_kuni')"
   ]
  },
  {
   "cell_type": "code",
   "execution_count": 8,
   "metadata": {},
   "outputs": [],
   "source": [
    "path = r'C:/Users/edina/OneDrive/Documentos/DataOnePiece/notebook_scrapping/*.csv'\n",
    "files = glob.glob(path)\n",
    "\n",
    "df_list = []\n",
    "\n",
    "for filename in files:\n",
    "    df = pd.read_csv(filename)\n",
    "    df_list.append(df)\n",
    "\n",
    "one_piece_eps = pd.concat(df_list, ignore_index=True)\n",
    "\n",
    "one_piece_eps.to_csv('C:/Users/edina/OneDrive/Documentos/DataOnePiece/notebook_scrapping/one_piece_eps.csv', index=False)"
   ]
  }
 ],
 "metadata": {
  "kernelspec": {
   "display_name": "venv",
   "language": "python",
   "name": "python3"
  },
  "language_info": {
   "codemirror_mode": {
    "name": "ipython",
    "version": 3
   },
   "file_extension": ".py",
   "mimetype": "text/x-python",
   "name": "python",
   "nbconvert_exporter": "python",
   "pygments_lexer": "ipython3",
   "version": "3.11.0"
  },
  "orig_nbformat": 4
 },
 "nbformat": 4,
 "nbformat_minor": 2
}
